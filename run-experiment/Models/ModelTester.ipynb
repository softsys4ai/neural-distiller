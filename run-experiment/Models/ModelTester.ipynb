{
 "cells": [
  {
   "cell_type": "code",
   "execution_count": null,
   "metadata": {
    "pycharm": {
     "is_executing": false,
     "name": "#%%\n"
    }
   },
   "outputs": [],
   "source": [
    "from VGG16 import VGG16\n",
    "vgg16 = VGG16('cifar100', \"/Users/blakeedwards/Desktop/Repos/research/neural-distiller-2/run-experiment/Models/ModelCheckpoints\", \"/Users/blakeedwards/Desktop/Repos/research/neural-distiller-2/run-experiment/Experiment-Logs\", 150, 100, 0.01)"
   ]
  },
  {
   "cell_type": "code",
   "execution_count": null,
   "metadata": {
    "scrolled": false
   },
   "outputs": [],
   "source": [
    "model = vgg16.build()"
   ]
  },
  {
   "cell_type": "code",
   "execution_count": 11,
   "metadata": {},
   "outputs": [
    {
     "name": "stdout",
     "output_type": "stream",
     "text": [
      "[2.302585025024414, 0.09998] [2.3025850200653077, 0.1]\n"
     ]
    }
   ],
   "source": [
    "from tensorflow.keras.optimizers import *\n",
    "sgd = SGD(learning_rate=0.001, momentum=0.0, nesterov=False)\n",
    "ada = adadelta(lr=1.0, rho=0.95, epsilon=None, decay=0.0)\n",
    "model.compile(optimizer=ada, loss='categorical_crossentropy', metrics=['accuracy'])\n",
    "\n",
    "train_score = model.evaluate(vgg16.train_x, vgg16.train_y, verbose=0)\n",
    "val_score = model.evaluate(vgg16.test_x, vgg16.test_y, verbose=0)\n",
    "print(train_score, val_score)"
   ]
  },
  {
   "cell_type": "code",
   "execution_count": null,
   "metadata": {},
   "outputs": [
    {
     "name": "stdout",
     "output_type": "stream",
     "text": [
      "Train on 50000 samples, validate on 10000 samples\n",
      "Epoch 1/150\n",
      "49900/50000 [============================>.] - ETA: 2s - loss: 2.3027 - accuracy: 0.0956WARNING:tensorflow:Early stopping conditioned on metric `val_acc` which is not available. Available metrics are: loss,accuracy,val_loss,val_accuracy\n",
      "50000/50000 [==============================] - 1202s 24ms/sample - loss: 2.3027 - accuracy: 0.0955 - val_loss: 2.3026 - val_accuracy: 0.1000\n",
      "Epoch 2/150\n",
      "49900/50000 [============================>.] - ETA: 2s - loss: 2.3026 - accuracy: 0.0989WARNING:tensorflow:Early stopping conditioned on metric `val_acc` which is not available. Available metrics are: loss,accuracy,val_loss,val_accuracy\n",
      "50000/50000 [==============================] - 1220s 24ms/sample - loss: 2.3026 - accuracy: 0.0989 - val_loss: 2.3026 - val_accuracy: 0.1000\n",
      "Epoch 3/150\n",
      "49900/50000 [============================>.] - ETA: 2s - loss: 2.3026 - accuracy: 0.0969WARNING:tensorflow:Early stopping conditioned on metric `val_acc` which is not available. Available metrics are: loss,accuracy,val_loss,val_accuracy\n",
      "50000/50000 [==============================] - 1278s 26ms/sample - loss: 2.3026 - accuracy: 0.0969 - val_loss: 2.3026 - val_accuracy: 0.1000\n",
      "Epoch 4/150\n",
      "15100/50000 [========>.....................] - ETA: 14:52 - loss: 2.3026 - accuracy: 0.1021"
     ]
    }
   ],
   "source": [
    "from tensorflow.keras.callbacks import *\n",
    "model.fit(vgg16.train_x, vgg16.train_y,\n",
    "                  batch_size=100,\n",
    "                  epochs=150,\n",
    "                  verbose=1,\n",
    "                  callbacks=[EarlyStopping(monitor='val_acc', patience=8, min_delta=0.00007)],\n",
    "                  validation_data=(vgg16.test_x, vgg16.test_y))"
   ]
  },
  {
   "cell_type": "code",
   "execution_count": null,
   "metadata": {},
   "outputs": [],
   "source": []
  }
 ],
 "metadata": {
  "kernelspec": {
   "display_name": "Python 3",
   "language": "python",
   "name": "python3"
  },
  "language_info": {
   "codemirror_mode": {
    "name": "ipython",
    "version": 3
   },
   "file_extension": ".py",
   "mimetype": "text/x-python",
   "name": "python",
   "nbconvert_exporter": "python",
   "pygments_lexer": "ipython3",
   "version": "3.7.4"
  },
  "pycharm": {
   "stem_cell": {
    "cell_type": "raw",
    "metadata": {
     "collapsed": false
    },
    "source": []
   }
  }
 },
 "nbformat": 4,
 "nbformat_minor": 1
}
