{
 "cells": [
  {
   "cell_type": "code",
   "execution_count": 3,
   "metadata": {
    "pycharm": {
     "is_executing": false,
     "name": "#%%\n"
    }
   },
   "outputs": [
    {
     "name": "stdout",
     "output_type": "stream",
     "text": [
      "initialized\n"
     ]
    }
   ],
   "source": [
    "from VGG16 import VGG16\n",
    "vgg16 = VGG16('cifar10', \"/Users/blakeedwards/Desktop/Repos/research/neural-distiller-2/run-experiment/Models/ModelCheckpoints\", \"/Users/blakeedwards/Desktop/Repos/research/neural-distiller-2/run-experiment/Experiment-Logs\", 150, 100, 0.01)"
   ]
  },
  {
   "cell_type": "code",
   "execution_count": 7,
   "metadata": {
    "scrolled": false
   },
   "outputs": [
    {
     "name": "stdout",
     "output_type": "stream",
     "text": [
      "build model started\n",
      "(32, 32, 3)\n",
      "build model finished: 0s\n"
     ]
    }
   ],
   "source": [
    "model = vgg16.build()"
   ]
  },
  {
   "cell_type": "code",
   "execution_count": 11,
   "metadata": {},
   "outputs": [
    {
     "name": "stdout",
     "output_type": "stream",
     "text": [
      "[2.302585025024414, 0.09998] [2.3025850200653077, 0.1]\n"
     ]
    }
   ],
   "source": [
    "from tensorflow.keras.optimizers import *\n",
    "sgd = SGD(learning_rate=0.01, momentum=0.0, nesterov=False)\n",
    "model.compile(optimizer=sgd, loss='categorical_crossentropy', metrics=['accuracy'])\n",
    "\n",
    "train_score = model.evaluate(vgg16.train_x, vgg16.train_y, verbose=0)\n",
    "val_score = model.evaluate(vgg16.test_x, vgg16.test_y, verbose=0)\n",
    "print(train_score, val_score)"
   ]
  },
  {
   "cell_type": "code",
   "execution_count": null,
   "metadata": {},
   "outputs": [
    {
     "name": "stdout",
     "output_type": "stream",
     "text": [
      "Train on 50000 samples, validate on 10000 samples\n",
      "Epoch 1/150\n",
      " 8000/50000 [===>..........................] - ETA: 17:26 - loss: 2.3026 - accuracy: 0.0955"
     ]
    }
   ],
   "source": [
    "from tensorflow.keras.callbacks import *\n",
    "model.fit(vgg16.train_x, vgg16.train_y,\n",
    "                  batch_size=100,\n",
    "                  epochs=150,\n",
    "                  verbose=1,\n",
    "                  callbacks=[EarlyStopping(monitor='val_acc', patience=8, min_delta=0.00007)],\n",
    "                  validation_data=(vgg16.test_x, vgg16.test_y))"
   ]
  },
  {
   "cell_type": "code",
   "execution_count": null,
   "metadata": {},
   "outputs": [],
   "source": []
  }
 ],
 "metadata": {
  "kernelspec": {
   "display_name": "Python 3",
   "language": "python",
   "name": "python3"
  },
  "language_info": {
   "codemirror_mode": {
    "name": "ipython",
    "version": 3
   },
   "file_extension": ".py",
   "mimetype": "text/x-python",
   "name": "python",
   "nbconvert_exporter": "python",
   "pygments_lexer": "ipython3",
   "version": "3.7.4"
  },
  "pycharm": {
   "stem_cell": {
    "cell_type": "raw",
    "metadata": {
     "collapsed": false
    },
    "source": []
   }
  }
 },
 "nbformat": 4,
 "nbformat_minor": 1
}
